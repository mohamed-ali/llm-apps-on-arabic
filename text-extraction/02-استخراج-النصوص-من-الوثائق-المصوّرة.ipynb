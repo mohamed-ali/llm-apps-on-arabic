{
 "cells": [
  {
   "cell_type": "markdown",
   "metadata": {},
   "source": [
    "<div dir=\"rtl\">\n",
    "\n",
    "# استخراج النصوص من الوثائق المصوّرة\n",
    "\n",
    "</div>"
   ]
  },
  {
   "cell_type": "code",
   "execution_count": 60,
   "metadata": {},
   "outputs": [],
   "source": [
    "import boto3"
   ]
  },
  {
   "cell_type": "code",
   "execution_count": 61,
   "metadata": {},
   "outputs": [],
   "source": [
    "bedrock_runtime = boto3.client(\"bedrock-runtime\", region_name=\"us-west-2\")\n",
    "bedrock = boto3.client(\"bedrock\", region_name=\"us-west-2\")"
   ]
  },
  {
   "cell_type": "code",
   "execution_count": 62,
   "metadata": {},
   "outputs": [
    {
     "name": "stdout",
     "output_type": "stream",
     "text": [
      "Reading package lists... 5%\r"
     ]
    },
    {
     "name": "stdout",
     "output_type": "stream",
     "text": [
      "Reading package lists... Done\n",
      "Building dependency tree... Done\n",
      "Reading state information... Done\n",
      "poppler-utils is already the newest version (22.02.0-2ubuntu0.5).\n",
      "0 upgraded, 0 newly installed, 0 to remove and 0 not upgraded.\n"
     ]
    }
   ],
   "source": [
    "!sudo apt install poppler-utils -y"
   ]
  },
  {
   "cell_type": "code",
   "execution_count": 63,
   "metadata": {},
   "outputs": [],
   "source": [
    "!mkdir -p ../documents\n",
    "!mkdir -p ../output/raw\n",
    "!mkdir -p ../output/cleaned\n",
    "!mkdir -p ../output/images"
   ]
  },
  {
   "cell_type": "code",
   "execution_count": 64,
   "metadata": {},
   "outputs": [
    {
     "name": "stdout",
     "output_type": "stream",
     "text": [
      "File ‘../documents/aws-cloud-adoption-framework.pdf’ already there; not retrieving.\n"
     ]
    }
   ],
   "source": [
    "!wget -O ../documents/aws-cloud-adoption-framework.pdf -nc https://d1.awsstatic.com/whitepapers/International/ar/aws-cloud-adoption-framework.pdf --no-check-certificate"
   ]
  },
  {
   "cell_type": "code",
   "execution_count": 65,
   "metadata": {},
   "outputs": [],
   "source": [
    "document = \"../documents/aws-cloud-adoption-framework.pdf\""
   ]
  },
  {
   "cell_type": "code",
   "execution_count": 66,
   "metadata": {},
   "outputs": [
    {
     "name": "stdout",
     "output_type": "stream",
     "text": [
      "-rw-r--r-- 1 sagemaker-user users 1.3M Mar  9  2022 ../documents/aws-cloud-adoption-framework.pdf\n"
     ]
    }
   ],
   "source": [
    "ls -alh {document}"
   ]
  },
  {
   "cell_type": "code",
   "execution_count": 67,
   "metadata": {},
   "outputs": [
    {
     "name": "stdout",
     "output_type": "stream",
     "text": [
      "Title:           إطار عمل اعتماد السحابة من AWS\n",
      "Subject:         إطار عمل اعتماد السحابة من AWS\n",
      "Keywords:        CAF, Adoption\n",
      "Author:          Amazon Web Services\n",
      "Creator:         Microsoft Word\n",
      "CreationDate:    Fri Mar  4 21:17:33 2022 UTC\n",
      "ModDate:         Fri Mar  4 21:35:12 2022 UTC\n",
      "Custom Metadata: no\n",
      "Metadata Stream: yes\n",
      "Tagged:          yes\n",
      "UserProperties:  no\n",
      "Suspects:        no\n",
      "Form:            none\n",
      "JavaScript:      no\n",
      "Pages:           25\n",
      "Encrypted:       no\n",
      "Page size:       612 x 792 pts (letter)\n",
      "Page rot:        0\n",
      "File size:       1336106 bytes\n",
      "Optimized:       no\n",
      "PDF version:     1.7\n"
     ]
    }
   ],
   "source": [
    "!pdfinfo {document}"
   ]
  },
  {
   "cell_type": "code",
   "execution_count": 68,
   "metadata": {},
   "outputs": [
    {
     "data": {
      "text/plain": [
       "'aws-cloud-adoption-framework'"
      ]
     },
     "execution_count": 68,
     "metadata": {},
     "output_type": "execute_result"
    }
   ],
   "source": [
    "filename = document.split(\"/\")[-1].split(\".\")[0]\n",
    "filename"
   ]
  },
  {
   "cell_type": "code",
   "execution_count": 69,
   "metadata": {},
   "outputs": [],
   "source": [
    "page_number = 6"
   ]
  },
  {
   "cell_type": "code",
   "execution_count": 70,
   "metadata": {},
   "outputs": [],
   "source": [
    "!pdftoppm -png -f {page_number} -l {page_number} {document} ../output/images/{filename}-pg\n"
   ]
  },
  {
   "cell_type": "markdown",
   "metadata": {},
   "source": [
    "<div dir=\"rtl\">\n",
    "\n",
    "## استخراج النصوص باستخدام نموذج لغوي كبير\n",
    "\n",
    "</div>"
   ]
  },
  {
   "cell_type": "code",
   "execution_count": 71,
   "metadata": {},
   "outputs": [],
   "source": [
    "# Load the image containing text and convert it into base64"
   ]
  },
  {
   "cell_type": "code",
   "execution_count": 72,
   "metadata": {},
   "outputs": [],
   "source": [
    "import base64\n",
    "\n",
    "\n",
    "def image_to_base64(image_path):\n",
    "    with open(image_path, \"rb\") as image_file:\n",
    "        image_data = image_file.read()\n",
    "\n",
    "    base64_image = base64.b64encode(image_data)\n",
    "    base64_string = base64_image.decode(\"utf-8\")\n",
    "\n",
    "    return base64_string"
   ]
  },
  {
   "cell_type": "code",
   "execution_count": 73,
   "metadata": {},
   "outputs": [],
   "source": [
    "page_number = str(page_number).zfill(2)\n",
    "image_path = f\"../output/images/{filename}-pg-{page_number}.png\""
   ]
  },
  {
   "cell_type": "code",
   "execution_count": 74,
   "metadata": {},
   "outputs": [],
   "source": [
    "page_base64 = image_to_base64(image_path)"
   ]
  },
  {
   "cell_type": "code",
   "execution_count": 84,
   "metadata": {},
   "outputs": [],
   "source": [
    "prompt = \"\"\"\n",
    "This image is a page from a document in arabic, review it carrefully and transcribe the text accurately in its original language. Write the output as markdown and put it inside an xml tag called <markdown>\"\n",
    "\"\"\""
   ]
  },
  {
   "cell_type": "code",
   "execution_count": 85,
   "metadata": {},
   "outputs": [],
   "source": [
    "import json\n",
    "\n",
    "# https://docs.aws.amazon.com/bedrock/latest/userguide/model-parameters-anthropic-claude-messages.html\n",
    "body = json.dumps({\n",
    "    \"anthropic_version\": \"bedrock-2023-05-31\",\n",
    "    \"max_tokens\": 4096,\n",
    "    \"temperature\": 0.0,\n",
    "    \"top_k\":250,\n",
    "    \"top_p\":0.99,\n",
    "    \"messages\": [\n",
    "        {\n",
    "            \"role\": \"user\",\n",
    "            \"content\": [\n",
    "                {\n",
    "                    \"type\": \"image\",\n",
    "                    \"source\": {\n",
    "                        \"type\": \"base64\",\n",
    "                        \"media_type\": \"image/png\",\n",
    "                        \"data\": page_base64\n",
    "                    }\n",
    "                },\n",
    "                {\n",
    "                    \"type\": \"text\",\n",
    "                    \"text\": prompt\n",
    "                }\n",
    "            ]\n",
    "        }\n",
    "    ]\n",
    "})"
   ]
  },
  {
   "cell_type": "code",
   "execution_count": 86,
   "metadata": {},
   "outputs": [],
   "source": [
    "modelId = \"anthropic.claude-3-sonnet-20240229-v1:0\"\n",
    "accept = 'application/json'\n",
    "contentType = 'application/json'\n",
    "\n",
    "response = bedrock_runtime.invoke_model(body=body, modelId=modelId, accept=accept, contentType=contentType)\n",
    "response_body = json.loads(response.get('body').read())"
   ]
  },
  {
   "cell_type": "code",
   "execution_count": 88,
   "metadata": {},
   "outputs": [],
   "source": [
    "import bs4\n",
    "\n",
    "\n",
    "def extract_tag(xml_text, tag='markdown'):\n",
    "    soup = bs4.BeautifulSoup(xml_text, 'html.parser')\n",
    "    summary_tag = soup.find(tag)\n",
    "    if summary_tag:\n",
    "        return summary_tag.text.strip()\n",
    "    else:\n",
    "        return None"
   ]
  },
  {
   "cell_type": "code",
   "execution_count": 90,
   "metadata": {},
   "outputs": [
    {
     "name": "stdout",
     "output_type": "stream",
     "text": [
      "AWS من AWS إطار عمل اعتماد السحابة\n",
      "\n",
      "Amazon Web Services\n",
      "\n",
      "مجالات العوان\n",
      "\n",
      "الأمن\n",
      "الدين من\n",
      "خدمات\n",
      "(الأمان)\n",
      "\n",
      "الشبكة\n",
      "\n",
      "المؤسسة\n",
      "\n",
      "الهوية\n",
      "\n",
      "التكرارية\n",
      "\n",
      "تأمين الهوية\n",
      "الشبكة الاجتماعية\n",
      "وحدة كل شركات\n",
      "(ESG)\n",
      "\n",
      "نمو الأولويات\n",
      "\n",
      "رؤية الخدمة\n",
      "المتقدمة\n",
      "\n",
      "الأساس\n",
      "الأدوات\n",
      "الشركة\n",
      "\n",
      "الأمن\n",
      "العمليات\n",
      "\n",
      "الاتصالات الأساسية\n",
      "\n",
      "سلسلة قيمة التحول السحابي\n",
      "\n",
      "• يركز التحول الكبيرولوجي على استخدام السحابة لنقل وتحديث البنية الأساسية والتطبيقات ومصادر البيانات.\n",
      "والتحديات البيئية، تظهر كل يوم. إذا البنية السحابية أن عمليات التوصيل من التطبيقات والبيانات السحابية إلى AWS\n",
      "تتطلب تغييرًا كبيرًا في ثقافة الشركة. لقد تم تصميم 7/38 نسبة 7/37 من الشركات لديها برامج تحول رسمية، و 7/57\n",
      "نسبة 7/34 من المؤسسات الأعمال في الأعمال الأعمال، وتطبيق وقت التشغيل.\n",
      "\n",
      "• يركز التحول المؤسسي على التحول الرقمي لعملياته وإدارته والتشغيل التلقائي لها وتحسينها. وسيشمل ذلك الاستفادة من\n",
      "مصممات البيانات والحوسبات الجديدة لخلق رؤى عملية أو استخدام نظام الآلة (ML) لتحسين تجارب خدمة العملاء.\n",
      "وتحسين الكفاءة مع تطبيق الذكاء الاصطناعي، والتوقف عن الاتصال، والأتمتة.\n",
      "وتحسين الكفاءة مع تطبيق الذكاء الاصطناعي، والتوقف عن الاتصال، والأتمتة. وتركز العمليات المساندة على تحسين التكاليف والشفافية\n",
      "مع تحسين التجربة الرقمية للعملاء. وتحسين تجربة الموظفين والعملاء.\n",
      "\n",
      "• يركز التحول الموسمي على إعادة تصور المنتج التشغيلي الخاص بهم، كيف يمكن قرق علامة ورق\n",
      "الكبرى لجهة تسليم جهودهم لخلق قيمة للعملاء وتحقيق المقاصد الأستراتيجية سيساعد تشغيل ورق الخاصة\n",
      "على التركيز أكثر تركيزًا على أن تسمح agile من خلال التكرار والشفافية بسرعة. على سبيل المثال، يمكن\n",
      "استخدام أكثر استخدامًا للعملاء من خلال agile طرق من خلال تصور نموذج علامة من خلال إنشاء عروض قيمة جديدة (منتجات وخدمات).\n",
      "\n",
      "• يركز التحول المتطلبات على إعادة تصور نموذج علامة من خلال إنشاء عروض قيمة جديدة (منتجات وخدمات)\n",
      "ويمارس الإبراهات. بإعداد إجراء ذلك على الوصول إلى فاعلة علامة لأسباب، ودخول قطاعات سوق جديدة يظهر\n",
      "بوضوح لبلوغ إلى الوصول بالسرعة إلى السوق بالنسبة للسيارات والتطبيقات.\n",
      "إذا البنية السحابية أن اعتماد AWS يؤدي إلى تفاقل وقت الوصول إلى السوق بنسبة 7/37 نسبة وبدايته بنسبة 7/42 نسبة\n",
      "وقت نشر التطبيقات الجديدة بنسبة 7/38.\n",
      "\n",
      "الامكانات التأسيسية\n",
      "\n",
      "تتيح مجموعة من الامكانات التأسيسية المرصودة خلال من مجالات التحول المرصودة الفرصة\n",
      "لاول (الأشخاص والتكنولوجيا) الازمة لنشر العمليات لمن الاستفادة القوة التنظيمية هي الشكل الأساسي في\n",
      "أخرى مؤسسية أو غير مؤسسية لتحقيق نتائج ممتعة تقدم امكانات AWS CAF إرشادات حول أفضل الممارسات التي\n"
     ]
    }
   ],
   "source": [
    "text = response_body[\"content\"][0][\"text\"]\n",
    "\n",
    "print(extract_tag(text, tag='markdown'))"
   ]
  }
 ],
 "metadata": {
  "kernelspec": {
   "display_name": "base",
   "language": "python",
   "name": "python3"
  },
  "language_info": {
   "codemirror_mode": {
    "name": "ipython",
    "version": 3
   },
   "file_extension": ".py",
   "mimetype": "text/x-python",
   "name": "python",
   "nbconvert_exporter": "python",
   "pygments_lexer": "ipython3",
   "version": "3.10.14"
  }
 },
 "nbformat": 4,
 "nbformat_minor": 2
}
