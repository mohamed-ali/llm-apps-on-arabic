{
 "cells": [
  {
   "cell_type": "markdown",
   "metadata": {},
   "source": [
    "مرحبا\n"
   ]
  },
  {
   "cell_type": "code",
   "execution_count": 5,
   "metadata": {},
   "outputs": [
    {
     "name": "stdout",
     "output_type": "stream",
     "text": [
      "Reading package lists... 0%\r"
     ]
    },
    {
     "name": "stdout",
     "output_type": "stream",
     "text": [
      "Reading package lists... Done\n",
      "Building dependency tree... Done\n",
      "Reading state information... Done\n",
      "poppler-utils is already the newest version (22.02.0-2ubuntu0.5).\n",
      "0 upgraded, 0 newly installed, 0 to remove and 9 not upgraded.\n"
     ]
    }
   ],
   "source": [
    "!sudo apt install poppler-utils -y"
   ]
  },
  {
   "cell_type": "code",
   "execution_count": 15,
   "metadata": {},
   "outputs": [
    {
     "name": "stdout",
     "output_type": "stream",
     "text": [
      "--2024-08-07 16:33:50--  https://d1.awsstatic.com/whitepapers/International/ar/aws-cloud-adoption-framework.pdf\n",
      "Resolving d1.awsstatic.com (d1.awsstatic.com)... 99.84.70.192, 2600:9000:2163:9000:19:2ae8:f748:f7e1, 2600:9000:2163:9e00:19:2ae8:f748:f7e1, ...\n",
      "Connecting to d1.awsstatic.com (d1.awsstatic.com)|99.84.70.192|:443... connected.\n",
      "HTTP request sent, awaiting response... "
     ]
    },
    {
     "name": "stdout",
     "output_type": "stream",
     "text": [
      "200 OK\n",
      "Length: 1336106 (1.3M) [application/pdf]\n",
      "Saving to: ‘../documents/aws-cloud-adoption-framework.pdf’\n",
      "\n",
      "../documents/aws-cl 100%[===================>]   1.27M  --.-KB/s    in 0.03s   \n",
      "\n",
      "2024-08-07 16:33:50 (39.0 MB/s) - ‘../documents/aws-cloud-adoption-framework.pdf’ saved [1336106/1336106]\n",
      "\n"
     ]
    }
   ],
   "source": [
    "!wget -O ../documents/aws-cloud-adoption-framework.pdf -nc https://d1.awsstatic.com/whitepapers/International/ar/aws-cloud-adoption-framework.pdf "
   ]
  },
  {
   "cell_type": "code",
   "execution_count": 16,
   "metadata": {},
   "outputs": [],
   "source": [
    "document = \"../documents/aws-cloud-adoption-framework.pdf\""
   ]
  },
  {
   "cell_type": "code",
   "execution_count": 28,
   "metadata": {},
   "outputs": [
    {
     "name": "stdout",
     "output_type": "stream",
     "text": [
      "Title:           إطار عمل اعتماد السحابة من AWS\n",
      "Subject:         إطار عمل اعتماد السحابة من AWS\n",
      "Keywords:        CAF, Adoption\n",
      "Author:          Amazon Web Services\n",
      "Creator:         Microsoft Word\n",
      "CreationDate:    Fri Mar  4 21:17:33 2022 UTC\n",
      "ModDate:         Fri Mar  4 21:35:12 2022 UTC\n",
      "Custom Metadata: no\n",
      "Metadata Stream: yes\n",
      "Tagged:          yes\n",
      "UserProperties:  no\n",
      "Suspects:        no\n",
      "Form:            none\n",
      "JavaScript:      no\n",
      "Pages:           25\n",
      "Encrypted:       no\n",
      "Page size:       612 x 792 pts (letter)\n",
      "Page rot:        0\n",
      "File size:       1336106 bytes\n",
      "Optimized:       no\n",
      "PDF version:     1.7\n"
     ]
    }
   ],
   "source": [
    "!pdfinfo {document}"
   ]
  },
  {
   "cell_type": "code",
   "execution_count": 36,
   "metadata": {},
   "outputs": [
    {
     "data": {
      "text/plain": [
       "'../output/raw/aws-cloud-adoption-framework.txt'"
      ]
     },
     "execution_count": 36,
     "metadata": {},
     "output_type": "execute_result"
    }
   ],
   "source": [
    "filename = raw_text_output_path.split(\"/\")[-1].split(\".\")[0]\n",
    "raw_text_output_path = f\"../output/raw/{filename}.txt\"\n",
    "raw_text_output_path"
   ]
  },
  {
   "cell_type": "code",
   "execution_count": 34,
   "metadata": {},
   "outputs": [],
   "source": [
    "!pdftotext -layout {document} {raw_text_output_path}"
   ]
  },
  {
   "cell_type": "code",
   "execution_count": 35,
   "metadata": {},
   "outputs": [
    {
     "name": "stdout",
     "output_type": "stream",
     "text": [
      " ‫إطار عمل اعتماد السحابة من ‪AWS‬‬\n",
      "‫التحول الرقمي المدعوم بالسحابة‬\n",
      "                         ‫ّ‬     ‫تسريع عمليات‬\n",
      "\n",
      "\n",
      "\n",
      "       ‫تم نشره ألول مرة في فبراير‪/‬شباط ‪2015‬‬\n",
      "\n",
      "     ‫تم التحديث في ‪ 22‬نوفمبر‪ /‬تشرين الثاني ‪2021‬‬\n",
      "\f                                                                                               ‫اإلشعارات‬\n"
     ]
    }
   ],
   "source": [
    "!head {raw_text_output_path}"
   ]
  },
  {
   "cell_type": "code",
   "execution_count": 37,
   "metadata": {},
   "outputs": [],
   "source": [
    "with open(raw_text_output_path) as txt:\n",
    "    text_lines = txt.readlines()"
   ]
  },
  {
   "cell_type": "code",
   "execution_count": 39,
   "metadata": {},
   "outputs": [
    {
     "data": {
      "text/plain": [
       "[' \\u202bإطار عمل اعتماد السحابة من \\u202aAWS\\u202c\\u202c\\n',\n",
       " '\\u202bالتحول الرقمي المدعوم بالسحابة\\u202c\\n',\n",
       " '                         \\u202bّ\\u202c     \\u202bتسريع عمليات\\u202c\\n',\n",
       " '\\n',\n",
       " '\\n',\n",
       " '\\n',\n",
       " '       \\u202bتم نشره ألول مرة في فبراير\\u202a/\\u202cشباط \\u202a2015\\u202c\\u202c\\n',\n",
       " '\\n',\n",
       " '     \\u202bتم التحديث في \\u202a 22\\u202cنوفمبر\\u202a /\\u202cتشرين الثاني \\u202a2021\\u202c\\u202c\\n',\n",
       " '\\x0c                                                                                               \\u202bاإلشعارات\\u202c\\n']"
      ]
     },
     "execution_count": 39,
     "metadata": {},
     "output_type": "execute_result"
    }
   ],
   "source": [
    "text_lines[:10]"
   ]
  },
  {
   "cell_type": "markdown",
   "metadata": {},
   "source": []
  },
  {
   "cell_type": "code",
   "execution_count": 42,
   "metadata": {},
   "outputs": [],
   "source": [
    "import re\n",
    "\n",
    "\n",
    "def clean_line(line):\n",
    "    unicodes_to_replace = [\"\\u202a\", \"\\u202b\", \"\\u202c\"]\n",
    "    for unicode in unicodes_to_replace:\n",
    "        line = line.replace(unicode, \"\")\n",
    "    return line\n",
    "\n",
    "\n",
    "pattern = re.compile(r'\\s{10,}')\n",
    "cleaned_text = \"\"\n",
    "\n",
    "for line in text_lines:\n",
    "    cleaned_line = clean_line(line).strip()\n",
    "    result = pattern.split(cleaned_line)[::-1]\n",
    "\n",
    "    if len(result) == 1:\n",
    "        line = result[0]\n",
    "        if line:\n",
    "            cleaned_text += line + \"\\n\"\n",
    "        else:\n",
    "            # handle empty lines\n",
    "            cleaned_text += \"\\n\"\n",
    "\n",
    "    else:\n",
    "        format_string = \" \".join([\"{: >50}\"] * len(result))\n",
    "        # handle multiple columns lines\n",
    "        cleaned_text += format_string.format(*result) + \"\\n\"\n",
    "        # print(cleaned_text)\n",
    "        # cleaned_text += \"             \".join(result) + \"\\n\"\n",
    "\n",
    "\n",
    "cleaned_text_output_path = f\"../output/cleaned/{filename}.txt\"\n",
    "\n",
    "with open(cleaned_text_output_path, \"w\") as txt:\n",
    "    txt.write(cleaned_text)"
   ]
  },
  {
   "cell_type": "code",
   "execution_count": null,
   "metadata": {},
   "outputs": [],
   "source": []
  }
 ],
 "metadata": {
  "kernelspec": {
   "display_name": "base",
   "language": "python",
   "name": "python3"
  },
  "language_info": {
   "codemirror_mode": {
    "name": "ipython",
    "version": 3
   },
   "file_extension": ".py",
   "mimetype": "text/x-python",
   "name": "python",
   "nbconvert_exporter": "python",
   "pygments_lexer": "ipython3",
   "version": "3.10.14"
  }
 },
 "nbformat": 4,
 "nbformat_minor": 2
}
